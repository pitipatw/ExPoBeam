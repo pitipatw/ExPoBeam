{
 "cells": [
  {
   "attachments": {},
   "cell_type": "markdown",
   "metadata": {},
   "source": [
    "# March 23 half-scale test for PixelFrame"
   ]
  },
  {
   "attachments": {},
   "cell_type": "markdown",
   "metadata": {},
   "source": [
    "This notebook is based on: \n",
    "Flexural behavior of externally prestressed beams Part 1: Analytical models\" Chee Khoon Ng, Kiang Hwee Tan. (2006)\n",
    "***\n"
   ]
  },
  {
   "attachments": {},
   "cell_type": "markdown",
   "metadata": {},
   "source": [
    "## Notations\n",
    "***\n",
    "!!!Will be updated after the entire script is complete.\n",
    "***"
   ]
  },
  {
   "attachments": {},
   "cell_type": "markdown",
   "metadata": {},
   "source": [
    "### Variables that were obtained by calculation (not from direct measurements)\n",
    "- fpe :effective post tensioning stress [MPa]\n",
    "    We know what's the \n",
    "\n",
    "### Calculation Notes\n",
    "- fc′ :concrete compressive strength [MPa] = 35 MPa (?), from 2 cylinder test.\n",
    "- (from the paper)\n",
    "Since sections are usually under-reinforced, the behavior will govern by the steel yielding. Therefore, the nonlinear behavior of the concrete is neglected.\n",
    "- Use Ld = Ls (this test only) \n",
    "- Eccentricities measured from the neutral axis\n",
    "- M is the moment in the constant region\n",
    "- Mg = moment due to the selfweight\n",
    "- M(x) is the moment equation due to the load\n",
    "- Units N, mm, MPa"
   ]
  },
  {
   "attachments": {},
   "cell_type": "markdown",
   "metadata": {},
   "source": [
    "## Setting up packages"
   ]
  },
  {
   "cell_type": "code",
   "execution_count": 247,
   "metadata": {},
   "outputs": [],
   "source": [
    "using CSV, DataFrames\n",
    "using UnPack\n",
    "using Makie, GLMakie "
   ]
  },
  {
   "attachments": {},
   "cell_type": "markdown",
   "metadata": {},
   "source": [
    "### Todo\n",
    "- [x] Plot everything out vs displacement. \n",
    "- [ ]\n",
    "\n",
    "Check every variable that can be checked. (e mid , forces (static) , )\n"
   ]
  },
  {
   "attachments": {},
   "cell_type": "markdown",
   "metadata": {},
   "source": [
    "### Include files"
   ]
  },
  {
   "cell_type": "code",
   "execution_count": 248,
   "metadata": {},
   "outputs": [],
   "source": [
    "include(\"input_data.jl\") ;\n",
    "include(\"functions.jl\") ;\n",
    "include(\"Interpolations.jl\") ;"
   ]
  },
  {
   "attachments": {},
   "cell_type": "markdown",
   "metadata": {},
   "source": [
    "#### Default values"
   ]
  },
  {
   "cell_type": "code",
   "execution_count": 249,
   "metadata": {},
   "outputs": [],
   "source": [
    "st = 10.0 ;#step size of the force  inputs\n",
    "P_lb = 0.:st:8300. ; #[lb] (This is based on the test data)\n",
    "P_N  = 4.448*P_lb ;# [N]\n",
    "P = P_N ;# This depends on what unit you want to use in the calculation.\n",
    "M = P*Ls/2.0 ;#given M inputs"
   ]
  },
  {
   "attachments": {},
   "cell_type": "markdown",
   "metadata": {},
   "source": [
    "#### Instantiates empty arrays to store results"
   ]
  },
  {
   "cell_type": "code",
   "execution_count": 250,
   "metadata": {},
   "outputs": [],
   "source": [
    "con_size = length(P) ;\n",
    "fps_history = zeros(con_size) ;\n",
    "dps_history = zeros(con_size) ;\n",
    "Icr_history = zeros(con_size) ;\n",
    "Ie_history  = zeros(con_size) ; \n",
    "c_history   = zeros(con_size) ;\n",
    "dis_history = zeros(con_size) ;\n",
    "dis_dev_history = zeros(con_size) ;\n",
    "fc_history  = zeros(con_size) ;"
   ]
  },
  {
   "attachments": {},
   "cell_type": "markdown",
   "metadata": {},
   "source": [
    "#### Assumes"
   ]
  },
  {
   "cell_type": "code",
   "execution_count": 251,
   "metadata": {},
   "outputs": [
    {
     "name": "stdout",
     "output_type": "stream",
     "text": [
      "mcre = Aps * fpe * (em + Zb / Atr) + fr * Zb = 3.5328848800667063e6\n",
      "dmcr = (Aps * em * (em + Zb / Atr) * (mcre - mg)) / (((1 / Ω) * Itr * Ec) / Eps + Aps * (r ^ 2 - (em * Zb) / Atr)) = 162334.89432065873\n"
     ]
    },
    {
     "data": {
      "text/plain": [
       "3.695219774387365e6"
      ]
     },
     "metadata": {},
     "output_type": "display_data"
    }
   ],
   "source": [
    "Icr = Itr # Icrack = I transformed (initial I of concrete and steel).\n",
    "Ie = Itr # Assume Cracked inertia's = I transformed.\n",
    "fps = fpe # Assume stress in the tendon = effective post tensioning force.\n",
    "dps = dps0 # Initial depth of the post tensioning tendon.\n",
    "Ω =  getOmega(Sec) # coefficient.\n",
    "#we could do Mcr = 0 , becuase we crack at the begining anyway. \n",
    "Mcr = getMcr(Mat, Sec, f, Ω)\n",
    "# Mcr = 0.00001\n",
    "# Mcr = 10.0\n"
   ]
  },
  {
   "attachments": {},
   "cell_type": "markdown",
   "metadata": {},
   "source": [
    "#### Initializing values"
   ]
  },
  {
   "cell_type": "code",
   "execution_count": 252,
   "metadata": {},
   "outputs": [
    {
     "data": {
      "text/plain": [
       "0.0"
      ]
     },
     "metadata": {},
     "output_type": "display_data"
    }
   ],
   "source": [
    "Ωc = 0\n",
    "c  = 0\n",
    "Ac_req  = 0 \n",
    "Lc = 0\n",
    "fc = 0.0\n",
    "δ_mid = 0\n",
    "δ_dev = 0\n",
    "fc = 0.0\n",
    "# Mi = 0"
   ]
  },
  {
   "attachments": {},
   "cell_type": "markdown",
   "metadata": {},
   "source": [
    "#### Initializing figures for vizualization"
   ]
  },
  {
   "cell_type": "code",
   "execution_count": 253,
   "metadata": {},
   "outputs": [
    {
     "data": {
      "text/plain": [
       "2-element Vector{Axis}:\n",
       " Axis (0 plots)\n",
       " Axis (0 plots)"
      ]
     },
     "metadata": {},
     "output_type": "display_data"
    }
   ],
   "source": [
    "fig1 = Figure(backgroundcolor = RGBf(0.98,0.98,0.98) , resolution = (1000, 700))\n",
    "ga = fig1[1,1] = GridLayout()\n",
    "gb = fig1[1,2] = GridLayout()\n",
    "title_name = [ \"dps\", \"fps\", \"DisMid\", \"c\", \"Inertia(s)\", \"withTest\"]\n",
    "fig_monitor = Figure(resolution = (1200, 2000))\n",
    "axis_monitor1 = [Axis(ga[i,1], title = title_name[i]) for i in 1:5]\n",
    "axis_monitor2 = [Axis(gb[i,1]) for i in 1:2]"
   ]
  },
  {
   "attachments": {},
   "cell_type": "markdown",
   "metadata": {},
   "source": [
    "#### Main program for calculating the deflection and related variables\n",
    "[This part is based on fig 7 in the paper]"
   ]
  },
  {
   "cell_type": "code",
   "execution_count": 254,
   "metadata": {},
   "outputs": [
    {
     "name": "stdout",
     "output_type": "stream",
     "text": [
      "0.0\n",
      "0\n",
      "Int64\n"
     ]
    },
    {
     "ename": "MethodError",
     "evalue": "MethodError: no method matching getIe(::Float64, ::Float64, ::Int64, ::Float64, ::Float64)\nClosest candidates are:\n  getIe(::Float64, ::Float64, !Matched::Float64, ::Float64, ::Float64) at ~/dev/ExPoBeam/functions.jl:177",
     "output_type": "error",
     "traceback": [
      "MethodError: no method matching getIe(::Float64, ::Float64, ::Int64, ::Float64, ::Float64)\n",
      "Closest candidates are:\n",
      "  getIe(::Float64, ::Float64, !Matched::Float64, ::Float64, ::Float64) at ~/dev/ExPoBeam/functions.jl:177\n",
      "\n",
      "Stacktrace:\n",
      " [1] loop1()\n",
      "   @ Main ~/dev/ExPoBeam/functions.jl:255\n",
      " [2] main()\n",
      "   @ Main ~/dev/ExPoBeam/functions.jl:218\n",
      " [3] top-level scope\n",
      "   @ ~/dev/ExPoBeam/March_test_documentation.ipynb:1"
     ]
    }
   ],
   "source": [
    "main() "
   ]
  },
  {
   "cell_type": "code",
   "execution_count": 255,
   "metadata": {},
   "outputs": [],
   "source": []
  }
 ],
 "metadata": {
  "kernelspec": {
   "display_name": "Julia 1.8.5",
   "language": "julia",
   "name": "julia-1.8"
  },
  "language_info": {
   "file_extension": ".jl",
   "mimetype": "application/julia",
   "name": "julia",
   "version": "1.8.5"
  },
  "orig_nbformat": 4,
  "vscode": {
   "interpreter": {
    "hash": "7e60b941e13b12afcbf28adcef5274f6f77162f1109708c54ce9dc846b42c6cd"
   }
  }
 },
 "nbformat": 4,
 "nbformat_minor": 2
}
